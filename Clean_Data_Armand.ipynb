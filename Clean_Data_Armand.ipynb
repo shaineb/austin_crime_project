{
 "cells": [
  {
   "cell_type": "code",
   "execution_count": 16,
   "metadata": {},
   "outputs": [],
   "source": [
    "## Import necessary packages\n",
    "%matplotlib inline\n",
    "import os\n",
    "import csv\n",
    "import pandas as pd\n",
    "import numpy as np\n",
    "import matplotlib.pyplot as plt\n",
    "from scipy import stats\n",
    "from scipy.stats import linregress"
   ]
  },
  {
   "cell_type": "code",
   "execution_count": 2,
   "metadata": {},
   "outputs": [],
   "source": [
    "# Load in the Austin crime dataset\n",
    "# df = os.path.join('Resources', 'Crime_Reports.csv')\n",
    "\n",
    "datafile = '../austin_crime_project/Resources/Crime_Reports.csv'"
   ]
  },
  {
   "cell_type": "code",
   "execution_count": 3,
   "metadata": {
    "scrolled": true
   },
   "outputs": [
    {
     "data": {
      "text/html": [
       "<div>\n",
       "<style scoped>\n",
       "    .dataframe tbody tr th:only-of-type {\n",
       "        vertical-align: middle;\n",
       "    }\n",
       "\n",
       "    .dataframe tbody tr th {\n",
       "        vertical-align: top;\n",
       "    }\n",
       "\n",
       "    .dataframe thead th {\n",
       "        text-align: right;\n",
       "    }\n",
       "</style>\n",
       "<table border=\"1\" class=\"dataframe\">\n",
       "  <thead>\n",
       "    <tr style=\"text-align: right;\">\n",
       "      <th></th>\n",
       "      <th>Incident Number</th>\n",
       "      <th>Highest Offense Description</th>\n",
       "      <th>Highest Offense Code</th>\n",
       "      <th>Family Violence</th>\n",
       "      <th>Occurred Date Time</th>\n",
       "      <th>Occurred Date</th>\n",
       "      <th>Occurred Time</th>\n",
       "      <th>Report Date Time</th>\n",
       "      <th>Report Date</th>\n",
       "      <th>Report Time</th>\n",
       "      <th>...</th>\n",
       "      <th>Census Tract</th>\n",
       "      <th>Clearance Status</th>\n",
       "      <th>Clearance Date</th>\n",
       "      <th>UCR Category</th>\n",
       "      <th>Category Description</th>\n",
       "      <th>X-coordinate</th>\n",
       "      <th>Y-coordinate</th>\n",
       "      <th>Latitude</th>\n",
       "      <th>Longitude</th>\n",
       "      <th>Location</th>\n",
       "    </tr>\n",
       "  </thead>\n",
       "  <tbody>\n",
       "    <tr>\n",
       "      <th>0</th>\n",
       "      <td>2.017115e+08</td>\n",
       "      <td>AGG ASLT STRANGLE/SUFFOCATE</td>\n",
       "      <td>410</td>\n",
       "      <td>Y</td>\n",
       "      <td>1/1/2017 10:30</td>\n",
       "      <td>1/1/2017</td>\n",
       "      <td>1030</td>\n",
       "      <td>1/1/2017 11:58</td>\n",
       "      <td>1/1/2017</td>\n",
       "      <td>1158</td>\n",
       "      <td>...</td>\n",
       "      <td>NaN</td>\n",
       "      <td>C</td>\n",
       "      <td>1/10/2017</td>\n",
       "      <td>13A</td>\n",
       "      <td>Aggravated Assault</td>\n",
       "      <td>3130704.0</td>\n",
       "      <td>3130704.0</td>\n",
       "      <td>30.359794</td>\n",
       "      <td>-97.688358</td>\n",
       "      <td>(30.35979391, -97.688358)</td>\n",
       "    </tr>\n",
       "    <tr>\n",
       "      <th>1</th>\n",
       "      <td>2.017100e+08</td>\n",
       "      <td>AGG ASSAULT</td>\n",
       "      <td>402</td>\n",
       "      <td>N</td>\n",
       "      <td>1/1/2017 0:07</td>\n",
       "      <td>1/1/2017</td>\n",
       "      <td>7</td>\n",
       "      <td>1/1/2017 0:07</td>\n",
       "      <td>1/1/2017</td>\n",
       "      <td>7</td>\n",
       "      <td>...</td>\n",
       "      <td>NaN</td>\n",
       "      <td>NaN</td>\n",
       "      <td>NaN</td>\n",
       "      <td>13A</td>\n",
       "      <td>Aggravated Assault</td>\n",
       "      <td>3114768.0</td>\n",
       "      <td>3114768.0</td>\n",
       "      <td>30.268162</td>\n",
       "      <td>-97.741362</td>\n",
       "      <td>(30.26816195, -97.74136237)</td>\n",
       "    </tr>\n",
       "    <tr>\n",
       "      <th>2</th>\n",
       "      <td>2.017109e+08</td>\n",
       "      <td>AGG ASSAULT</td>\n",
       "      <td>402</td>\n",
       "      <td>N</td>\n",
       "      <td>1/1/2017 4:20</td>\n",
       "      <td>1/1/2017</td>\n",
       "      <td>420</td>\n",
       "      <td>1/1/2017 4:20</td>\n",
       "      <td>1/1/2017</td>\n",
       "      <td>420</td>\n",
       "      <td>...</td>\n",
       "      <td>NaN</td>\n",
       "      <td>N</td>\n",
       "      <td>3/8/2017</td>\n",
       "      <td>13A</td>\n",
       "      <td>Aggravated Assault</td>\n",
       "      <td>3131193.0</td>\n",
       "      <td>3131193.0</td>\n",
       "      <td>30.318604</td>\n",
       "      <td>-97.687937</td>\n",
       "      <td>(30.3186038, -97.68793685)</td>\n",
       "    </tr>\n",
       "    <tr>\n",
       "      <th>3</th>\n",
       "      <td>2.017503e+10</td>\n",
       "      <td>AGG ASSAULT FAM/DATE VIOLENCE</td>\n",
       "      <td>402</td>\n",
       "      <td>Y</td>\n",
       "      <td>1/1/2017 0:00</td>\n",
       "      <td>1/1/2017</td>\n",
       "      <td>0</td>\n",
       "      <td>8/10/2017 8:30</td>\n",
       "      <td>8/10/2017</td>\n",
       "      <td>830</td>\n",
       "      <td>...</td>\n",
       "      <td>NaN</td>\n",
       "      <td>O</td>\n",
       "      <td>8/17/2017</td>\n",
       "      <td>13A</td>\n",
       "      <td>Aggravated Assault</td>\n",
       "      <td>3099695.0</td>\n",
       "      <td>3099695.0</td>\n",
       "      <td>30.196029</td>\n",
       "      <td>-97.791021</td>\n",
       "      <td>(30.1960291, -97.79102086)</td>\n",
       "    </tr>\n",
       "    <tr>\n",
       "      <th>4</th>\n",
       "      <td>2.019239e+10</td>\n",
       "      <td>AGG FORCED SODOMY</td>\n",
       "      <td>1718</td>\n",
       "      <td>N</td>\n",
       "      <td>1/1/2017 21:29</td>\n",
       "      <td>1/1/2017</td>\n",
       "      <td>2129</td>\n",
       "      <td>8/27/2019 21:29</td>\n",
       "      <td>8/27/2019</td>\n",
       "      <td>2129</td>\n",
       "      <td>...</td>\n",
       "      <td>NaN</td>\n",
       "      <td>C</td>\n",
       "      <td>10/29/2019</td>\n",
       "      <td>11B</td>\n",
       "      <td>Rape</td>\n",
       "      <td>0.0</td>\n",
       "      <td>0.0</td>\n",
       "      <td>NaN</td>\n",
       "      <td>NaN</td>\n",
       "      <td>NaN</td>\n",
       "    </tr>\n",
       "  </tbody>\n",
       "</table>\n",
       "<p>5 rows × 27 columns</p>\n",
       "</div>"
      ],
      "text/plain": [
       "   Incident Number    Highest Offense Description  Highest Offense Code  \\\n",
       "0     2.017115e+08    AGG ASLT STRANGLE/SUFFOCATE                   410   \n",
       "1     2.017100e+08                    AGG ASSAULT                   402   \n",
       "2     2.017109e+08                    AGG ASSAULT                   402   \n",
       "3     2.017503e+10  AGG ASSAULT FAM/DATE VIOLENCE                   402   \n",
       "4     2.019239e+10              AGG FORCED SODOMY                  1718   \n",
       "\n",
       "  Family Violence Occurred Date Time Occurred Date  Occurred Time  \\\n",
       "0               Y     1/1/2017 10:30      1/1/2017           1030   \n",
       "1               N      1/1/2017 0:07      1/1/2017              7   \n",
       "2               N      1/1/2017 4:20      1/1/2017            420   \n",
       "3               Y      1/1/2017 0:00      1/1/2017              0   \n",
       "4               N     1/1/2017 21:29      1/1/2017           2129   \n",
       "\n",
       "  Report Date Time Report Date  Report Time  ... Census Tract  \\\n",
       "0   1/1/2017 11:58    1/1/2017         1158  ...          NaN   \n",
       "1    1/1/2017 0:07    1/1/2017            7  ...          NaN   \n",
       "2    1/1/2017 4:20    1/1/2017          420  ...          NaN   \n",
       "3   8/10/2017 8:30   8/10/2017          830  ...          NaN   \n",
       "4  8/27/2019 21:29   8/27/2019         2129  ...          NaN   \n",
       "\n",
       "  Clearance Status  Clearance Date  UCR Category Category Description  \\\n",
       "0                C       1/10/2017           13A   Aggravated Assault   \n",
       "1              NaN             NaN           13A   Aggravated Assault   \n",
       "2                N        3/8/2017           13A   Aggravated Assault   \n",
       "3                O       8/17/2017           13A   Aggravated Assault   \n",
       "4                C      10/29/2019           11B                 Rape   \n",
       "\n",
       "  X-coordinate  Y-coordinate   Latitude  Longitude  \\\n",
       "0    3130704.0     3130704.0  30.359794 -97.688358   \n",
       "1    3114768.0     3114768.0  30.268162 -97.741362   \n",
       "2    3131193.0     3131193.0  30.318604 -97.687937   \n",
       "3    3099695.0     3099695.0  30.196029 -97.791021   \n",
       "4          0.0           0.0        NaN        NaN   \n",
       "\n",
       "                      Location  \n",
       "0    (30.35979391, -97.688358)  \n",
       "1  (30.26816195, -97.74136237)  \n",
       "2   (30.3186038, -97.68793685)  \n",
       "3   (30.1960291, -97.79102086)  \n",
       "4                          NaN  \n",
       "\n",
       "[5 rows x 27 columns]"
      ]
     },
     "execution_count": 3,
     "metadata": {},
     "output_type": "execute_result"
    }
   ],
   "source": [
    "data = pd.read_csv(datafile)\n",
    "data.head()"
   ]
  },
  {
   "cell_type": "code",
   "execution_count": 4,
   "metadata": {},
   "outputs": [
    {
     "data": {
      "text/plain": [
       "Index(['Incident Number', 'Highest Offense Description',\n",
       "       'Highest Offense Code', 'Family Violence', 'Occurred Date Time',\n",
       "       'Occurred Date', 'Occurred Time', 'Report Date Time', 'Report Date',\n",
       "       'Report Time', 'Location Type', 'Address', 'Zip Code',\n",
       "       'Council District', 'APD Sector', 'APD District', 'PRA', 'Census Tract',\n",
       "       'Clearance Status', 'Clearance Date', 'UCR Category',\n",
       "       'Category Description', 'X-coordinate', 'Y-coordinate', 'Latitude',\n",
       "       'Longitude', 'Location'],\n",
       "      dtype='object')"
      ]
     },
     "execution_count": 4,
     "metadata": {},
     "output_type": "execute_result"
    }
   ],
   "source": [
    "data.columns"
   ]
  },
  {
   "cell_type": "code",
   "execution_count": 5,
   "metadata": {},
   "outputs": [
    {
     "data": {
      "text/html": [
       "<div>\n",
       "<style scoped>\n",
       "    .dataframe tbody tr th:only-of-type {\n",
       "        vertical-align: middle;\n",
       "    }\n",
       "\n",
       "    .dataframe tbody tr th {\n",
       "        vertical-align: top;\n",
       "    }\n",
       "\n",
       "    .dataframe thead th {\n",
       "        text-align: right;\n",
       "    }\n",
       "</style>\n",
       "<table border=\"1\" class=\"dataframe\">\n",
       "  <thead>\n",
       "    <tr style=\"text-align: right;\">\n",
       "      <th></th>\n",
       "      <th>Highest Offense Description</th>\n",
       "      <th>Family Violence</th>\n",
       "      <th>Occurred Date Time</th>\n",
       "      <th>Location Type</th>\n",
       "      <th>Zip Code</th>\n",
       "      <th>APD District</th>\n",
       "      <th>PRA</th>\n",
       "      <th>Census Tract</th>\n",
       "      <th>Category Description</th>\n",
       "      <th>Location</th>\n",
       "    </tr>\n",
       "  </thead>\n",
       "  <tbody>\n",
       "    <tr>\n",
       "      <th>0</th>\n",
       "      <td>AGG ASLT STRANGLE/SUFFOCATE</td>\n",
       "      <td>Y</td>\n",
       "      <td>1/1/2017 10:30</td>\n",
       "      <td>HOTEL / MOTEL / ETC.</td>\n",
       "      <td>78753.0</td>\n",
       "      <td>1</td>\n",
       "      <td>240.0</td>\n",
       "      <td>NaN</td>\n",
       "      <td>Aggravated Assault</td>\n",
       "      <td>(30.35979391, -97.688358)</td>\n",
       "    </tr>\n",
       "    <tr>\n",
       "      <th>1</th>\n",
       "      <td>AGG ASSAULT</td>\n",
       "      <td>N</td>\n",
       "      <td>1/1/2017 0:07</td>\n",
       "      <td>STREETS / HWY / ROAD / ALLEY</td>\n",
       "      <td>78701.0</td>\n",
       "      <td>2</td>\n",
       "      <td>381.0</td>\n",
       "      <td>NaN</td>\n",
       "      <td>Aggravated Assault</td>\n",
       "      <td>(30.26816195, -97.74136237)</td>\n",
       "    </tr>\n",
       "    <tr>\n",
       "      <th>2</th>\n",
       "      <td>AGG ASSAULT</td>\n",
       "      <td>N</td>\n",
       "      <td>1/1/2017 4:20</td>\n",
       "      <td>PARKING LOTS / GARAGE</td>\n",
       "      <td>78723.0</td>\n",
       "      <td>3</td>\n",
       "      <td>294.0</td>\n",
       "      <td>NaN</td>\n",
       "      <td>Aggravated Assault</td>\n",
       "      <td>(30.3186038, -97.68793685)</td>\n",
       "    </tr>\n",
       "    <tr>\n",
       "      <th>3</th>\n",
       "      <td>AGG ASSAULT FAM/DATE VIOLENCE</td>\n",
       "      <td>Y</td>\n",
       "      <td>1/1/2017 0:00</td>\n",
       "      <td>RESIDENCE / HOME</td>\n",
       "      <td>78745.0</td>\n",
       "      <td>3</td>\n",
       "      <td>526.0</td>\n",
       "      <td>NaN</td>\n",
       "      <td>Aggravated Assault</td>\n",
       "      <td>(30.1960291, -97.79102086)</td>\n",
       "    </tr>\n",
       "    <tr>\n",
       "      <th>4</th>\n",
       "      <td>AGG FORCED SODOMY</td>\n",
       "      <td>N</td>\n",
       "      <td>1/1/2017 21:29</td>\n",
       "      <td>RESIDENCE / HOME</td>\n",
       "      <td>78753.0</td>\n",
       "      <td>7</td>\n",
       "      <td>241.0</td>\n",
       "      <td>NaN</td>\n",
       "      <td>Rape</td>\n",
       "      <td>NaN</td>\n",
       "    </tr>\n",
       "  </tbody>\n",
       "</table>\n",
       "</div>"
      ],
      "text/plain": [
       "     Highest Offense Description Family Violence Occurred Date Time  \\\n",
       "0    AGG ASLT STRANGLE/SUFFOCATE               Y     1/1/2017 10:30   \n",
       "1                    AGG ASSAULT               N      1/1/2017 0:07   \n",
       "2                    AGG ASSAULT               N      1/1/2017 4:20   \n",
       "3  AGG ASSAULT FAM/DATE VIOLENCE               Y      1/1/2017 0:00   \n",
       "4              AGG FORCED SODOMY               N     1/1/2017 21:29   \n",
       "\n",
       "                  Location Type  Zip Code APD District    PRA  Census Tract  \\\n",
       "0          HOTEL / MOTEL / ETC.   78753.0            1  240.0           NaN   \n",
       "1  STREETS / HWY / ROAD / ALLEY   78701.0            2  381.0           NaN   \n",
       "2         PARKING LOTS / GARAGE   78723.0            3  294.0           NaN   \n",
       "3              RESIDENCE / HOME   78745.0            3  526.0           NaN   \n",
       "4              RESIDENCE / HOME   78753.0            7  241.0           NaN   \n",
       "\n",
       "  Category Description                     Location  \n",
       "0   Aggravated Assault    (30.35979391, -97.688358)  \n",
       "1   Aggravated Assault  (30.26816195, -97.74136237)  \n",
       "2   Aggravated Assault   (30.3186038, -97.68793685)  \n",
       "3   Aggravated Assault   (30.1960291, -97.79102086)  \n",
       "4                 Rape                          NaN  "
      ]
     },
     "execution_count": 5,
     "metadata": {},
     "output_type": "execute_result"
    }
   ],
   "source": [
    "Newdata = data.drop(columns=[\"Incident Number\", \"Highest Offense Code\", 'Occurred Date', 'Occurred Time', 'Report Date Time', 'Report Date',\n",
    "       'Report Time', 'Address', 'Council District', 'APD Sector', 'Clearance Status', 'Clearance Date', 'UCR Category', 'X-coordinate', 'Y-coordinate', 'Latitude', 'Longitude'])\n",
    "\n",
    "Newdata.head() "
   ]
  },
  {
   "cell_type": "code",
   "execution_count": 6,
   "metadata": {},
   "outputs": [
    {
     "data": {
      "text/plain": [
       "FAMILY DISTURBANCE                25728\n",
       "BURGLARY OF VEHICLE               23572\n",
       "THEFT                             18444\n",
       "CRIMINAL MISCHIEF                 12923\n",
       "ASSAULT W/INJURY-FAM/DATE VIOL     8100\n",
       "Name: Highest Offense Description, dtype: int64"
      ]
     },
     "execution_count": 6,
     "metadata": {},
     "output_type": "execute_result"
    }
   ],
   "source": [
    "#Counting Highest Offense Description\n",
    "\n",
    "count_data = Newdata[\"Highest Offense Description\"].value_counts(ascending=False)\n",
    "offense = count_data.head()\n",
    "offense\n"
   ]
  },
  {
   "cell_type": "code",
   "execution_count": 7,
   "metadata": {},
   "outputs": [
    {
     "data": {
      "text/plain": [
       "RESIDENCE / HOME                102411\n",
       "STREETS / HWY / ROAD / ALLEY     43931\n",
       "PARKING LOTS / GARAGE            27283\n",
       "OTHER / UNKNOWN                  15784\n",
       "COMMERCIAL / OFFICE BUILDING      6213\n",
       "Name: Location Type, dtype: int64"
      ]
     },
     "execution_count": 7,
     "metadata": {},
     "output_type": "execute_result"
    }
   ],
   "source": [
    "#Count the Highest Location Type\n",
    "\n",
    "location_data = Newdata[\"Location Type\"].value_counts(ascending=False)\n",
    "places = location_data.head()\n",
    "places"
   ]
  },
  {
   "cell_type": "code",
   "execution_count": 8,
   "metadata": {},
   "outputs": [
    {
     "data": {
      "image/png": "[encoded data removed]",
      "text/plain": [
       "<Figure size 576x216 with 1 Axes>"
      ]
     },
     "metadata": {
      "needs_background": "light"
     },
     "output_type": "display_data"
    }
   ],
   "source": [
    "#Bar graph for visualization\n",
    "\n",
    "\n",
    "fig=plt.figure(figsize=(8, 3))\n",
    "plt.title(\"Highest Offense Description Count\")\n",
    "plt.xlabel(\"Count\")\n",
    "plt.ylabel(\"Highest Offense Description\")\n",
    "ax = offense.plot(kind='barh')\n",
    "ax.get_xaxis().set_major_formatter(plt.FuncFormatter(lambda x, loc: \"{:,}\".format(int(x))))"
   ]
  },
  {
   "cell_type": "code",
   "execution_count": 9,
   "metadata": {},
   "outputs": [
    {
     "data": {
      "image/png": "[encoded data removed]",
      "text/plain": [
       "<Figure size 576x216 with 1 Axes>"
      ]
     },
     "metadata": {
      "needs_background": "light"
     },
     "output_type": "display_data"
    }
   ],
   "source": [
    "#Bar graph for visualization\n",
    "\n",
    "\n",
    "fig=plt.figure(figsize=(8, 3))\n",
    "plt.title(\"Location Type Count\")\n",
    "plt.xlabel(\"Count\")\n",
    "plt.ylabel(\"Location Type\")\n",
    "ax = places.plot(kind='barh')\n",
    "ax.get_xaxis().set_major_formatter(plt.FuncFormatter(lambda x, loc: \"{:,}\".format(int(x))))"
   ]
  },
  {
   "cell_type": "code",
   "execution_count": 10,
   "metadata": {},
   "outputs": [
    {
     "data": {
      "text/plain": [
       "FAMILY DISTURBANCE                21413\n",
       "BURGLARY OF VEHICLE                7905\n",
       "THEFT                              6894\n",
       "ASSAULT W/INJURY-FAM/DATE VIOL     6194\n",
       "CRIMINAL MISCHIEF                  5148\n",
       "Name: Highest Offense Description, dtype: int64"
      ]
     },
     "execution_count": 10,
     "metadata": {},
     "output_type": "execute_result"
    }
   ],
   "source": [
    "#Grouping by Location Type and Highest Offense Description\n",
    "\n",
    "groups = Newdata.groupby('Highest Offense Description')['Location Type'].value_counts()\n",
    "pd.set_option(\"display.max_rows\", None, \"display.max_columns\", None)\n",
    "\n",
    "data = Newdata[Newdata[\"Location Type\"] == \"RESIDENCE / HOME\"]\n",
    "new_group = data[\"Highest Offense Description\"].value_counts().sort_values(ascending = False)\n",
    "top_group = new_group.head()\n",
    "top_group\n"
   ]
  },
  {
   "cell_type": "code",
   "execution_count": 11,
   "metadata": {
    "scrolled": true
   },
   "outputs": [
    {
     "data": {
      "image/png": "[encoded data removed]",
      "text/plain": [
       "<Figure size 576x216 with 1 Axes>"
      ]
     },
     "metadata": {
      "needs_background": "light"
     },
     "output_type": "display_data"
    }
   ],
   "source": [
    "#Graph showing the top crimes of the \"Residence/Home\" location type\n",
    "\n",
    "fig=plt.figure(figsize=(8, 3))\n",
    "plt.title(\"Crime Count for Residence/Home Location Type\")\n",
    "plt.xlabel(\"Count\")\n",
    "plt.ylabel(\"Highest Crime Offense\")\n",
    "ax = top_group.plot(kind='barh')\n",
    "ax.get_xaxis().set_major_formatter(plt.FuncFormatter(lambda x, loc: \"{:,}\".format(int(x))))"
   ]
  },
  {
   "cell_type": "code",
   "execution_count": 12,
   "metadata": {},
   "outputs": [
    {
     "data": {
      "text/html": [
       "<div>\n",
       "<style scoped>\n",
       "    .dataframe tbody tr th:only-of-type {\n",
       "        vertical-align: middle;\n",
       "    }\n",
       "\n",
       "    .dataframe tbody tr th {\n",
       "        vertical-align: top;\n",
       "    }\n",
       "\n",
       "    .dataframe thead th {\n",
       "        text-align: right;\n",
       "    }\n",
       "</style>\n",
       "<table border=\"1\" class=\"dataframe\">\n",
       "  <thead>\n",
       "    <tr style=\"text-align: right;\">\n",
       "      <th></th>\n",
       "      <th>Count</th>\n",
       "      <th>Expected</th>\n",
       "    </tr>\n",
       "  </thead>\n",
       "  <tbody>\n",
       "    <tr>\n",
       "      <th>Family Disturbance</th>\n",
       "      <td>21413</td>\n",
       "      <td>9510.8</td>\n",
       "    </tr>\n",
       "    <tr>\n",
       "      <th>Burglary of Vehicle</th>\n",
       "      <td>7905</td>\n",
       "      <td>9510.8</td>\n",
       "    </tr>\n",
       "    <tr>\n",
       "      <th>Theft</th>\n",
       "      <td>6894</td>\n",
       "      <td>9510.8</td>\n",
       "    </tr>\n",
       "    <tr>\n",
       "      <th>Assault W/Injury-Fam/Date Viol</th>\n",
       "      <td>6194</td>\n",
       "      <td>9510.8</td>\n",
       "    </tr>\n",
       "    <tr>\n",
       "      <th>Criminal Mischief</th>\n",
       "      <td>5148</td>\n",
       "      <td>9510.8</td>\n",
       "    </tr>\n",
       "  </tbody>\n",
       "</table>\n",
       "</div>"
      ],
      "text/plain": [
       "                                Count  Expected\n",
       "Family Disturbance              21413    9510.8\n",
       "Burglary of Vehicle              7905    9510.8\n",
       "Theft                            6894    9510.8\n",
       "Assault W/Injury-Fam/Date Viol   6194    9510.8\n",
       "Criminal Mischief                5148    9510.8"
      ]
     },
     "execution_count": 12,
     "metadata": {},
     "output_type": "execute_result"
    }
   ],
   "source": [
    "# Chi squared test for crimes at Residence/Home location type\n",
    "\n",
    "chi_table = pd.Series([21413, 7905, 6894, 6194, 5148], index=[\"Family Disturbance\", \"Burglary of Vehicle\", \"Theft\", \"Assault W/Injury-Fam/Date Viol\", \"Criminal Mischief\"])\n",
    "\n",
    "new_df = pd.DataFrame([chi_table]).T\n",
    "\n",
    "# Add a column whose default values are the expected values\n",
    "new_df[1] = 9510.8\n",
    "\n",
    "#Rename columns\n",
    "new_df.columns = [\"Count\", \"Expected\"]\n",
    "new_df"
   ]
  },
  {
   "cell_type": "code",
   "execution_count": 13,
   "metadata": {},
   "outputs": [
    {
     "data": {
      "text/plain": [
       "9.487729036781154"
      ]
     },
     "execution_count": 13,
     "metadata": {},
     "output_type": "execute_result"
    }
   ],
   "source": [
    "# With four rows, the degree of freedom is 5-1 = 4\n",
    "# With a p-value of 0.05, the confidence level is 1.00-0.05 = 0.95.\n",
    "critical_value = stats.chi2.ppf(q = 0.95, df = 4)\n",
    "critical_value"
   ]
  },
  {
   "cell_type": "code",
   "execution_count": 14,
   "metadata": {},
   "outputs": [
    {
     "data": {
      "text/plain": [
       "Power_divergenceResult(statistic=19044.01173402868, pvalue=0.0)"
      ]
     },
     "execution_count": 14,
     "metadata": {},
     "output_type": "execute_result"
    }
   ],
   "source": [
    "# Run the chi square test with stats.chisquare()\n",
    "stats.chisquare(new_df[\"Count\"], new_df[\"Expected\"])"
   ]
  },
  {
   "cell_type": "code",
   "execution_count": 15,
   "metadata": {},
   "outputs": [],
   "source": [
    "# Since our chi-squared value of 19044.012 is significanlty greater than our critical value of 9.488, we conclude that our \n",
    "# hypothesis is correct"
   ]
  }
 ],
 "metadata": {
  "kernelspec": {
   "display_name": "Python 3",
   "language": "python",
   "name": "python3"
  },
  "language_info": {
   "codemirror_mode": {
    "name": "ipython",
    "version": 3
   },
   "file_extension": ".py",
   "mimetype": "text/x-python",
   "name": "python",
   "nbconvert_exporter": "python",
   "pygments_lexer": "ipython3",
   "version": "3.6.10"
  }
 },
 "nbformat": 4,
 "nbformat_minor": 4
}
